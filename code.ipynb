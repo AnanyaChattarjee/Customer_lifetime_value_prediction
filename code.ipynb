{
 "cells": [
  {
   "cell_type": "code",
   "execution_count": 5,
   "id": "bf91764b",
   "metadata": {},
   "outputs": [],
   "source": [
    "import pandas as pd\n",
    "import numpy as np\n",
    "from sklearn.model_selection import train_test_split\n",
    "from sklearn.ensemble import RandomForestRegressor\n",
    "from sklearn.metrics import r2_score, mean_squared_error\n",
    "import datetime as dt\n",
    "\n",
    "# Load dataset (adjust path as needed)\n",
    "df = pd.read_excel(\"dataset/online_retail_II.xlsx\",sheet_name=\"Year 2009-2010\")\n",
    "\n",
    "# Drop missing or invalid values\n",
    "df.dropna(subset=['Customer ID', 'Invoice', 'Quantity', 'Price'], inplace=True)\n",
    "\n",
    "# Compute Total Price\n",
    "df['TotalPrice'] = df['Quantity'] * df['Price']\n",
    "\n",
    "# Group by Customer to compute CLV and Frequency\n",
    "customer_df = df.groupby('Customer ID').agg({\n",
    "    'Invoice': 'nunique',         # Frequency\n",
    "    'InvoiceDate': 'max',         # Last purchase date\n",
    "    'TotalPrice': 'sum'           # CLV\n",
    "}).reset_index()\n",
    "\n",
    "customer_df.rename(columns={\n",
    "    'Invoice': 'Frequency',\n",
    "    'InvoiceDate': 'LastPurchase',\n",
    "    'TotalPrice': 'CLV'\n",
    "}, inplace=True)\n",
    "\n",
    "# Add Recency and Tenure\n",
    "latest_date = df['InvoiceDate'].max()\n",
    "earliest_date = df['InvoiceDate'].min()\n",
    "customer_df['Recency'] = (latest_date - customer_df['LastPurchase']).dt.days\n",
    "customer_df['Tenure'] = (customer_df['LastPurchase'] - earliest_date).dt.days\n",
    "\n",
    "# Feature engineering\n",
    "customer_df['Tenure_Frequency'] = customer_df['Tenure'] * customer_df['Frequency']\n",
    "customer_df['Freq_per_day'] = customer_df['Frequency'] / (customer_df['Tenure'] + 1)\n",
    "customer_df['HighFreq'] = (customer_df['Frequency'] > customer_df['Frequency'].median()).astype(int)\n",
    "\n",
    "# Drop NaNs just in case\n",
    "customer_df.dropna(inplace=True)\n",
    "\n",
    "# Feature set\n",
    "X = customer_df[['Frequency', 'Tenure', 'Recency', 'Tenure_Frequency', 'Freq_per_day', 'HighFreq']]\n",
    "y = customer_df['CLV']\n",
    "\n",
    "# Train-test split\n",
    "X_train, X_test, y_train, y_test = train_test_split(X, y, test_size=0.3, random_state=42)\n",
    "\n"
   ]
  },
  {
   "cell_type": "code",
   "execution_count": 6,
   "id": "a5b18fcf",
   "metadata": {},
   "outputs": [
    {
     "name": "stdout",
     "output_type": "stream",
     "text": [
      "Best R² score from RandomizedSearchCV: -0.12214676352612637\n",
      "Best Parameters: {'max_depth': 29, 'min_samples_split': 13, 'n_estimators': 113}\n"
     ]
    }
   ],
   "source": [
    "from sklearn.model_selection import RandomizedSearchCV\n",
    "from sklearn.ensemble import RandomForestRegressor\n",
    "from scipy.stats import randint\n",
    "\n",
    "# Define parameter distribution\n",
    "param_dist = {\n",
    "    'n_estimators': randint(100, 500),\n",
    "    'max_depth': randint(5, 30),\n",
    "    'min_samples_split': randint(2, 15)\n",
    "}\n",
    "\n",
    "# Randomized search with 20 iterations\n",
    "random_search = RandomizedSearchCV(\n",
    "    estimator=RandomForestRegressor(random_state=42),\n",
    "    param_distributions=param_dist,\n",
    "    n_iter=20,                  # Number of random combinations to try\n",
    "    cv=3,                       # 3-fold cross-validation\n",
    "    scoring='r2',\n",
    "    random_state=42,\n",
    "    n_jobs=-1                   # Use all CPU cores\n",
    ")\n",
    "\n",
    "random_search.fit(X_train, y_train)\n",
    "\n",
    "print(\"Best R² score from RandomizedSearchCV:\", random_search.best_score_)\n",
    "print(\"Best Parameters:\", random_search.best_params_)\n"
   ]
  },
  {
   "cell_type": "code",
   "execution_count": 7,
   "id": "05b7acc2",
   "metadata": {},
   "outputs": [
    {
     "name": "stdout",
     "output_type": "stream",
     "text": [
      "R^2 Score: 0.6461277105453227\n",
      "RMSE: 5313.600451079329\n"
     ]
    }
   ],
   "source": [
    "model = RandomForestRegressor(n_estimators=300, max_depth=10, random_state=42)\n",
    "model.fit(X_train, y_train)\n",
    "\n",
    "# Predict and evaluate\n",
    "y_pred = model.predict(X_test)\n",
    "print(\"R^2 Score:\", r2_score(y_test, y_pred))\n",
    "print(\"RMSE:\", np.sqrt(mean_squared_error(y_test, y_pred)))"
   ]
  },
  {
   "cell_type": "code",
   "execution_count": null,
   "id": "4fa8853a",
   "metadata": {},
   "outputs": [],
   "source": []
  },
  {
   "cell_type": "code",
   "execution_count": null,
   "id": "891efceb",
   "metadata": {},
   "outputs": [],
   "source": []
  }
 ],
 "metadata": {
  "kernelspec": {
   "display_name": ".venv",
   "language": "python",
   "name": "python3"
  },
  "language_info": {
   "codemirror_mode": {
    "name": "ipython",
    "version": 3
   },
   "file_extension": ".py",
   "mimetype": "text/x-python",
   "name": "python",
   "nbconvert_exporter": "python",
   "pygments_lexer": "ipython3",
   "version": "3.10.12"
  }
 },
 "nbformat": 4,
 "nbformat_minor": 5
}
